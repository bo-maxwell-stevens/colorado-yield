{
 "cells": [
  {
   "cell_type": "code",
   "execution_count": 8,
   "id": "b67eca50-58ff-42e4-ab89-bc739a8cba9d",
   "metadata": {},
   "outputs": [],
   "source": [
    "CLIENT_ID = '0oagekahb6FHnVFyl5d7'\n",
    "CLIENT_SECRET = 'uqSqyBPCLSVKgYl_V9oB2gwnlZE4uIbx3y5JFBR8gBTDm3PF9mVdk0M-El60WwQX'\n",
    "CLIENT_REDIRECT_URI = 'Http://localhost:9090/callback'\n",
    "\n",
    "# Leave the line below as-is. This line of code verifies that you've modified the CLIENT_ID, CLIENT_SECRET, CLIENT_REDIRECT_URI to the values above so that your application can complete OAuth\"\n",
    "assert(CLIENT_ID != 'place_client_key_here' and CLIENT_SECRET != 'place_client_secret_here' and CLIENT_REDIRECT_URI != 'place_client_redirect_uri_here'), \"You need to update your CLIENT_ID, CLIENT_SECRET, or CLIENT_REDIRECT_URI in this cell\""
   ]
  },
  {
   "cell_type": "code",
   "execution_count": 9,
   "id": "2bf799f1-7d57-48d5-a6cb-c6f165b8bb2f",
   "metadata": {},
   "outputs": [],
   "source": [
    "from requests_oauthlib import OAuth2Session\n",
    "import requests\n",
    "import json"
   ]
  },
  {
   "cell_type": "code",
   "execution_count": 10,
   "id": "a7a8736d-c588-475b-b0da-bc5ec5690f30",
   "metadata": {},
   "outputs": [
    {
     "name": "stdout",
     "output_type": "stream",
     "text": [
      "Well Known Authorization URL - https://signin.johndeere.com/oauth2/aus78tnlaysMraFhC1t7/v1/authorize\n",
      "Well Known Token Grant URL - https://signin.johndeere.com/oauth2/aus78tnlaysMraFhC1t7/v1/token\n",
      "Available Scopes - ag1 ag2 ag3 eq1 eq2 files finance1 finance2 org1 org2 work1 work2 openid profile email address phone offline_access device_sso\n"
     ]
    }
   ],
   "source": [
    "WELL_KNOWN_URL = 'https://signin.johndeere.com/oauth2/aus78tnlaysMraFhC1t7/.well-known/oauth-authorization-server'\n",
    "\n",
    "# Query the ./well-known OAuth URL and parse out the authorization URL, the token grant URL, and the available scopes\n",
    "well_known_response = requests.get(WELL_KNOWN_URL)\n",
    "well_known_info = json.loads(well_known_response.text)\n",
    "\n",
    "AUTHORIZATION_URL = well_known_info['authorization_endpoint']\n",
    "TOKEN_GRANT_URL = well_known_info['token_endpoint']\n",
    "AVAILABLE_SCOPES = str(' ').join(well_known_info['scopes_supported'])\n",
    "\n",
    "print('Well Known Authorization URL - ' + AUTHORIZATION_URL)\n",
    "print('Well Known Token Grant URL - ' + TOKEN_GRANT_URL)\n",
    "print('Available Scopes - ' + AVAILABLE_SCOPES)"
   ]
  },
  {
   "cell_type": "code",
   "execution_count": 11,
   "id": "d1ab0f57-4df3-46d4-a230-47b21b06e120",
   "metadata": {},
   "outputs": [
    {
     "name": "stdout",
     "output_type": "stream",
     "text": [
      "Click on the following link to present the user with sign in form where they authenticate and approve access to your application.\n",
      "https://signin.johndeere.com/oauth2/aus78tnlaysMraFhC1t7/v1/authorize?response_type=code&client_id=0oagekahb6FHnVFyl5d7&redirect_uri=Http%3A%2F%2Flocalhost%3A9090%2Fcallback&scope=eq1+offline_access+files+ag1&state=Some+Unique+Identifier\n"
     ]
    }
   ],
   "source": [
    "SCOPES_TO_REQUEST = {'offline_access', 'ag1', 'eq1', 'files'}\n",
    "STATE = \"Some Unique Identifier\"\n",
    "oauth2_session = OAuth2Session(CLIENT_ID,  redirect_uri=CLIENT_REDIRECT_URI, scope=SCOPES_TO_REQUEST)\n",
    "\n",
    "authorization_request, state = oauth2_session.authorization_url(AUTHORIZATION_URL, STATE)\n",
    "print(\"Click on the following link to present the user with sign in form where they authenticate and approve access to your application.\")\n",
    "print(authorization_request) "
   ]
  },
  {
   "cell_type": "code",
   "execution_count": 12,
   "id": "162c5009-fabf-4734-8491-702a5329b575",
   "metadata": {},
   "outputs": [
    {
     "name": "stdout",
     "output_type": "stream",
     "text": [
      "Access Token: eyJraWQiOiI1VkRFMldCSTc4RjNMdDczUnMxQnNVWUZ2dTFHWXV4YmI1T18wekViai1rIiwiYWxnIjoiUlMyNTYifQ.eyJ2ZXIiOjEsImp0aSI6IkFULnRSLXRDbGFvWVJmYjhIQXRWYTJIY0FkZGNpelJYRlZiS3pIdTYxWHRwRXMub2FyMXZob3JibmJBVWczMzc1ZDciLCJpc3MiOiJodHRwczovL3NpZ25pbi5qb2huZGVlcmUuY29tL29hdXRoMi9hdXM3OHRubGF5c01yYUZoQzF0NyIsImF1ZCI6ImNvbS5kZWVyZS5pc2cuYXhpb20iLCJpYXQiOjE3MTI5NTMxNTQsImV4cCI6MTcxMjk5NjM1NCwiY2lkIjoiMG9hZ2VrYWhiNkZIblZGeWw1ZDciLCJ1aWQiOiIwMHUzaWFxdmY2YTNWTmZlbDF0NyIsInNjcCI6WyJhZzEiLCJvZmZsaW5lX2FjY2VzcyIsImZpbGVzIiwiZXExIl0sImF1dGhfdGltZSI6MTcxMjk1MjQwMiwic3ViIjoiQW5kZXJzb253aGVhdCIsImlzY3NjIjp0cnVlLCJ0aWVyIjoiU0FOREJPWCIsImNuYW1lIjoiWWllbGQgU3RhYmlsaXR5IiwidXNlclR5cGUiOiJDdXN0b21lciJ9.lgAYONvp-2UL7Wg7X79ke3W1PV9n8v75vHefX2GdqvzibrbU7stysCMcC59tgt10gLCxWJV955uNuNlYX21QaNsmWuF-GZNwwC1HXqMxHqcMOZqEmc4-Pw0pFRnJkkj3hQ3EPMFR6mjy8YyAgtgoXBrQJ9YVeZyiUrdhs8TIqywi5_dj3SrXqjyUd0SGxexu4P3pg9valVfWqQt9nN5teInpYVFLxeu_-N7Jv0LMeUj9avZ8MVdVSaxdAfwBrx9cRLWY-DZpp55th9YX0IOBfFCcFRUQfkj_gXNjEomdyKl_IsSW1EmTFVDBkeQv6ndC8lXEkwX8283qQP5n5ETF-Q\n",
      "Refresh Token: mlD67kje--h1qFGrEVyHQvOdi5SUkPe873JjGt8f3x4\n",
      "Hours Token Is Valid: 12\n"
     ]
    }
   ],
   "source": [
    "# Update the authorization code here\n",
    "AUTHORIZATION_CODE = 'YRxuacgmn1mv0BZuwUoJ40PEOx92ac_HgalfnszSmCY'\n",
    "\n",
    "# Leave the line below as-is. This is to make sure that you have update the AUTHORIZATION_CODE\n",
    "assert(AUTHORIZATION_CODE != 'place_authorization_code_here'), 'The AUTHORIZATION_CODE in this cell must be replaced by the authorization_code that you recieved'\n",
    "\n",
    "# Now that we have an authorization code, let's fetch an access and refresh token\n",
    "token_response = oauth2_session.fetch_token(TOKEN_GRANT_URL, code=AUTHORIZATION_CODE, client_secret=CLIENT_SECRET)\n",
    "access_token = token_response['access_token']\n",
    "refresh_token = token_response['refresh_token']\n",
    "\n",
    "# Also take note that the access token expiration time is returned.  When the access token expires, \n",
    "# you will want to use the refresh token to request a new access token (described later in this notebook)\n",
    "access_token_expiration = token_response['expires_in']\n",
    "\n",
    "print(\"Access Token: \" + access_token)\n",
    "print(\"Refresh Token: \" + refresh_token)\n",
    "print(\"Hours Token Is Valid: \" + str(int(access_token_expiration/60/60)))"
   ]
  },
  {
   "cell_type": "code",
   "execution_count": 13,
   "id": "058f1ef8-6b19-4287-9399-bfa8c9bdfc69",
   "metadata": {},
   "outputs": [
    {
     "name": "stdout",
     "output_type": "stream",
     "text": [
      "https://connections.deere.com/connections/0oagekahb6FHnVFyl5d7&redirect_uri=Http://localhost:9090/callback\n"
     ]
    }
   ],
   "source": [
    "URL = 'https://connections.deere.com/connections/' + CLIENT_ID + '&redirect_uri=' + CLIENT_REDIRECT_URI\n",
    "\n",
    "print(URL)"
   ]
  },
  {
   "cell_type": "code",
   "execution_count": 14,
   "id": "b34727f8-915b-4772-bf4c-6917a701ee14",
   "metadata": {},
   "outputs": [],
   "source": [
    "MYJOHNDEERE_V3_JSON_HEADERS = { 'Accept': 'application/vnd.deere.axiom.v3+json',\n",
    "                                'Content-Type': 'application/vnd.deere.axiom.v3+json'}\n",
    "\n",
    "# If your app happens to be already approved for production, then use the partnerapi.deere.com, otherwise stick with sandboxapi.deere.com\n",
    "API_CATALOG_URI = 'https://sandboxapi.deere.com/platform/'\n",
    "#API_CATALOG_URI = 'https://partnerapi.deere.com/platform/'\n",
    "\n",
    "api_catalog_response = oauth2_session.get(API_CATALOG_URI, headers=MYJOHNDEERE_V3_JSON_HEADERS)               "
   ]
  },
  {
   "cell_type": "code",
   "execution_count": 15,
   "id": "11eafb0f-dc8d-4a57-96c5-a0679405a306",
   "metadata": {},
   "outputs": [
    {
     "data": {
      "text/plain": [
       "200"
      ]
     },
     "execution_count": 15,
     "metadata": {},
     "output_type": "execute_result"
    }
   ],
   "source": [
    "api_catalog_response.status_code"
   ]
  },
  {
   "cell_type": "code",
   "execution_count": 16,
   "id": "b7346e0d-feb6-4df6-a3f8-8c268e5dd05a",
   "metadata": {},
   "outputs": [
    {
     "data": {
      "text/plain": [
       "{'Date': 'Fri, 12 Apr 2024 20:21:19 GMT', 'Content-Type': 'application/vnd.deere.axiom.v3+json;charset=UTF-8', 'Content-Length': '458', 'Connection': 'keep-alive', 'Cache-Control': 'no-store', 'Content-Encoding': 'gzip', 'Strict-Transport-Security': 'max-age=31536000 ; includeSubDomains', 'X-XSS-Protection': '1; mode=block', 'X-Frame-Options': 'DENY', 'X-Content-Type-Options': 'nosniff', 'Content-Language': 'en', 'x-envoy-upstream-service-time': '12', 'response-code-details': 'via_upstream', 'server': 'envoy'}"
      ]
     },
     "execution_count": 16,
     "metadata": {},
     "output_type": "execute_result"
    }
   ],
   "source": [
    "api_catalog_response.headers"
   ]
  },
  {
   "cell_type": "code",
   "execution_count": 17,
   "id": "45daa85f-23d4-4eac-8447-cb66d977a9f5",
   "metadata": {},
   "outputs": [
    {
     "data": {
      "text/plain": [
       "{'@type': 'ApiCatalog',\n",
       " 'links': [{'@type': 'Link',\n",
       "   'rel': 'files',\n",
       "   'uri': 'https://sandboxapi.deere.com/platform/files'},\n",
       "  {'@type': 'Link',\n",
       "   'rel': 'fileTransfers',\n",
       "   'uri': 'https://sandboxapi.deere.com/platform/fileTransfers'},\n",
       "  {'@type': 'Link',\n",
       "   'rel': 'currentUser',\n",
       "   'uri': 'https://sandboxapi.deere.com/platform/users/@currentUser'},\n",
       "  {'@type': 'Link',\n",
       "   'rel': 'organizations',\n",
       "   'uri': 'https://sandboxapi.deere.com/platform/organizations'},\n",
       "  {'@type': 'Link',\n",
       "   'rel': 'partnerships',\n",
       "   'uri': 'https://sandboxapi.deere.com/platform/partnerships'},\n",
       "  {'@type': 'Link',\n",
       "   'rel': 'lastKnownEngineHours',\n",
       "   'uri': 'https://sandboxapi.deere.com/platform/engineHours?lastKnown=true'},\n",
       "  {'@type': 'Link',\n",
       "   'rel': 'geofencesCreate',\n",
       "   'uri': 'https://sandboxapi.deere.com/platform/organizations/{orgId}/geofences'},\n",
       "  {'@type': 'Link',\n",
       "   'rel': 'geofencesListGet',\n",
       "   'uri': 'https://sandboxapi.deere.com/platform/organizations/{orgId}/geofences'},\n",
       "  {'@type': 'Link',\n",
       "   'rel': 'geofencesUpdate',\n",
       "   'uri': 'https://sandboxapi.deere.com/platform/organizations/{orgId}/geofences/{geofenceId}'},\n",
       "  {'@type': 'Link',\n",
       "   'rel': 'geofencesDelete',\n",
       "   'uri': 'https://sandboxapi.deere.com/platform/organizations/{orgId}/geofences/{geofenceId}'},\n",
       "  {'@type': 'Link',\n",
       "   'rel': 'hoursOfOperation',\n",
       "   'uri': 'https://sandboxapi.deere.com/platform/hoursOfOperation'},\n",
       "  {'@type': 'Link',\n",
       "   'rel': 'machines',\n",
       "   'uri': 'https://sandboxapi.deere.com/platform/machines'},\n",
       "  {'@type': 'Link',\n",
       "   'rel': 'machineMeasurements',\n",
       "   'uri': 'https://sandboxapi.deere.com/platform/machineMeasurements'},\n",
       "  {'@type': 'Link',\n",
       "   'rel': 'notificationEvents',\n",
       "   'uri': 'https://sandboxapi.deere.com/platform/notificationEvents'},\n",
       "  {'@type': 'Link',\n",
       "   'rel': 'contributionProducts',\n",
       "   'uri': 'https://sandboxapi.deere.com/platform/contributionProducts'},\n",
       "  {'@type': 'Link',\n",
       "   'rel': 'contributionDefinitions',\n",
       "   'uri': 'https://sandboxapi.deere.com/platform/contributionDefinitions'},\n",
       "  {'@type': 'Link',\n",
       "   'rel': 'cropTypes',\n",
       "   'uri': 'https://sandboxapi.deere.com/platform/cropTypes'},\n",
       "  {'@type': 'Link',\n",
       "   'rel': 'mapLayerTypes',\n",
       "   'uri': 'https://sandboxapi.deere.com/platform/mapLayerTypes'},\n",
       "  {'@type': 'Link',\n",
       "   'rel': 'assetCatalog',\n",
       "   'uri': 'https://sandboxapi.deere.com/platform/assetCatalog'},\n",
       "  {'@type': 'Link',\n",
       "   'rel': 'eventSubscriptions',\n",
       "   'uri': 'https://sandboxapi.deere.com/platform/eventSubscriptions'},\n",
       "  {'@type': 'Link',\n",
       "   'rel': 'eventSubscriptionDelivery',\n",
       "   'uri': 'https://sandboxapi.deere.com/platform/eventSubscriptionDelivery'},\n",
       "  {'@type': 'Link',\n",
       "   'rel': 'referenceChemicals',\n",
       "   'uri': 'https://sandboxapi.deere.com/platform/chemicals'},\n",
       "  {'@type': 'Link',\n",
       "   'rel': 'referenceFertilizers',\n",
       "   'uri': 'https://sandboxapi.deere.com/platform/fertilizers'},\n",
       "  {'@type': 'Link',\n",
       "   'rel': 'referenceVarieties',\n",
       "   'uri': 'https://sandboxapi.deere.com/platform/varieties'},\n",
       "  {'@type': 'Link',\n",
       "   'rel': 'agencies',\n",
       "   'uri': 'https://sandboxapi.deere.com/platform/agencies'}]}"
      ]
     },
     "execution_count": 17,
     "metadata": {},
     "output_type": "execute_result"
    }
   ],
   "source": [
    "api_catalog_response.json()"
   ]
  },
  {
   "cell_type": "code",
   "execution_count": 18,
   "id": "4f09f292-f0e2-45e7-bcb6-4622a64e43bc",
   "metadata": {},
   "outputs": [
    {
     "data": {
      "text/plain": [
       "[{'@type': 'Link',\n",
       "  'rel': 'files',\n",
       "  'uri': 'https://sandboxapi.deere.com/platform/files'},\n",
       " {'@type': 'Link',\n",
       "  'rel': 'fileTransfers',\n",
       "  'uri': 'https://sandboxapi.deere.com/platform/fileTransfers'},\n",
       " {'@type': 'Link',\n",
       "  'rel': 'currentUser',\n",
       "  'uri': 'https://sandboxapi.deere.com/platform/users/@currentUser'},\n",
       " {'@type': 'Link',\n",
       "  'rel': 'organizations',\n",
       "  'uri': 'https://sandboxapi.deere.com/platform/organizations'},\n",
       " {'@type': 'Link',\n",
       "  'rel': 'partnerships',\n",
       "  'uri': 'https://sandboxapi.deere.com/platform/partnerships'},\n",
       " {'@type': 'Link',\n",
       "  'rel': 'lastKnownEngineHours',\n",
       "  'uri': 'https://sandboxapi.deere.com/platform/engineHours?lastKnown=true'},\n",
       " {'@type': 'Link',\n",
       "  'rel': 'geofencesCreate',\n",
       "  'uri': 'https://sandboxapi.deere.com/platform/organizations/{orgId}/geofences'},\n",
       " {'@type': 'Link',\n",
       "  'rel': 'geofencesListGet',\n",
       "  'uri': 'https://sandboxapi.deere.com/platform/organizations/{orgId}/geofences'},\n",
       " {'@type': 'Link',\n",
       "  'rel': 'geofencesUpdate',\n",
       "  'uri': 'https://sandboxapi.deere.com/platform/organizations/{orgId}/geofences/{geofenceId}'},\n",
       " {'@type': 'Link',\n",
       "  'rel': 'geofencesDelete',\n",
       "  'uri': 'https://sandboxapi.deere.com/platform/organizations/{orgId}/geofences/{geofenceId}'},\n",
       " {'@type': 'Link',\n",
       "  'rel': 'hoursOfOperation',\n",
       "  'uri': 'https://sandboxapi.deere.com/platform/hoursOfOperation'},\n",
       " {'@type': 'Link',\n",
       "  'rel': 'machines',\n",
       "  'uri': 'https://sandboxapi.deere.com/platform/machines'},\n",
       " {'@type': 'Link',\n",
       "  'rel': 'machineMeasurements',\n",
       "  'uri': 'https://sandboxapi.deere.com/platform/machineMeasurements'},\n",
       " {'@type': 'Link',\n",
       "  'rel': 'notificationEvents',\n",
       "  'uri': 'https://sandboxapi.deere.com/platform/notificationEvents'},\n",
       " {'@type': 'Link',\n",
       "  'rel': 'contributionProducts',\n",
       "  'uri': 'https://sandboxapi.deere.com/platform/contributionProducts'},\n",
       " {'@type': 'Link',\n",
       "  'rel': 'contributionDefinitions',\n",
       "  'uri': 'https://sandboxapi.deere.com/platform/contributionDefinitions'},\n",
       " {'@type': 'Link',\n",
       "  'rel': 'cropTypes',\n",
       "  'uri': 'https://sandboxapi.deere.com/platform/cropTypes'},\n",
       " {'@type': 'Link',\n",
       "  'rel': 'mapLayerTypes',\n",
       "  'uri': 'https://sandboxapi.deere.com/platform/mapLayerTypes'},\n",
       " {'@type': 'Link',\n",
       "  'rel': 'assetCatalog',\n",
       "  'uri': 'https://sandboxapi.deere.com/platform/assetCatalog'},\n",
       " {'@type': 'Link',\n",
       "  'rel': 'eventSubscriptions',\n",
       "  'uri': 'https://sandboxapi.deere.com/platform/eventSubscriptions'},\n",
       " {'@type': 'Link',\n",
       "  'rel': 'eventSubscriptionDelivery',\n",
       "  'uri': 'https://sandboxapi.deere.com/platform/eventSubscriptionDelivery'},\n",
       " {'@type': 'Link',\n",
       "  'rel': 'referenceChemicals',\n",
       "  'uri': 'https://sandboxapi.deere.com/platform/chemicals'},\n",
       " {'@type': 'Link',\n",
       "  'rel': 'referenceFertilizers',\n",
       "  'uri': 'https://sandboxapi.deere.com/platform/fertilizers'},\n",
       " {'@type': 'Link',\n",
       "  'rel': 'referenceVarieties',\n",
       "  'uri': 'https://sandboxapi.deere.com/platform/varieties'},\n",
       " {'@type': 'Link',\n",
       "  'rel': 'agencies',\n",
       "  'uri': 'https://sandboxapi.deere.com/platform/agencies'}]"
      ]
     },
     "execution_count": 18,
     "metadata": {},
     "output_type": "execute_result"
    }
   ],
   "source": [
    "links_array_from_api_catalog_response = api_catalog_response.json()['links']\n",
    "links_array_from_api_catalog_response"
   ]
  },
  {
   "cell_type": "code",
   "execution_count": 19,
   "id": "2d143c56-7e64-4f1f-9159-b60b5048cafe",
   "metadata": {},
   "outputs": [
    {
     "data": {
      "text/plain": [
       "'https://sandboxapi.deere.com/platform/organizations'"
      ]
     },
     "execution_count": 19,
     "metadata": {},
     "output_type": "execute_result"
    }
   ],
   "source": [
    "organizations_link = None\n",
    "\n",
    "for link_object in links_array_from_api_catalog_response:\n",
    "  if(link_object['rel'] == 'organizations'):\n",
    "    organizations_link = link_object['uri']\n",
    "    break;\n",
    "    \n",
    "organizations_link"
   ]
  },
  {
   "cell_type": "code",
   "execution_count": 20,
   "id": "2c8dcb1f-fd40-49e5-a615-4428b80c1bbb",
   "metadata": {},
   "outputs": [
    {
     "data": {
      "text/plain": [
       "{'links': [{'rel': 'self',\n",
       "   'uri': 'https://sandboxapi.deere.com/platform/organizations'}],\n",
       " 'total': 1,\n",
       " 'values': [{'@type': 'Organization',\n",
       "   'name': 'Anderson Wheat Farms',\n",
       "   'type': 'customer',\n",
       "   'member': True,\n",
       "   'internal': False,\n",
       "   'id': '156004',\n",
       "   'links': [{'@type': 'Link',\n",
       "     'rel': 'self',\n",
       "     'uri': 'https://sandboxapi.deere.com/platform/organizations/156004'},\n",
       "    {'@type': 'Link',\n",
       "     'rel': 'connections',\n",
       "     'uri': 'https://connections.deere.com/connections/0oagekahb6FHnVFyl5d7/select-organizations'}]}]}"
      ]
     },
     "execution_count": 20,
     "metadata": {},
     "output_type": "execute_result"
    }
   ],
   "source": [
    "organizations_response = oauth2_session.get(organizations_link, headers = MYJOHNDEERE_V3_JSON_HEADERS)\n",
    "organizations_response.json()"
   ]
  },
  {
   "cell_type": "code",
   "execution_count": 21,
   "id": "7e6ef1b7-655b-44aa-8473-dbeb7cbcd743",
   "metadata": {},
   "outputs": [
    {
     "data": {
      "text/plain": [
       "[{'@type': 'Organization',\n",
       "  'name': 'Anderson Wheat Farms',\n",
       "  'type': 'customer',\n",
       "  'member': True,\n",
       "  'internal': False,\n",
       "  'id': '156004',\n",
       "  'links': [{'@type': 'Link',\n",
       "    'rel': 'self',\n",
       "    'uri': 'https://sandboxapi.deere.com/platform/organizations/156004'},\n",
       "   {'@type': 'Link',\n",
       "    'rel': 'connections',\n",
       "    'uri': 'https://connections.deere.com/connections/0oagekahb6FHnVFyl5d7/select-organizations'}]}]"
      ]
     },
     "execution_count": 21,
     "metadata": {},
     "output_type": "execute_result"
    }
   ],
   "source": [
    "links_array_from_api_org_response = organizations_response.json()['values']\n",
    "links_array_from_api_org_response"
   ]
  },
  {
   "cell_type": "code",
   "execution_count": 22,
   "id": "02689d3d-915e-4e94-9023-f8328be68fde",
   "metadata": {},
   "outputs": [
    {
     "name": "stdout",
     "output_type": "stream",
     "text": [
      "https://connections.deere.com/connections/0oagekahb6FHnVFyl5d7/select-organizations&redirect_uri=Http://localhost:9090/callback\n"
     ]
    }
   ],
   "source": [
    "connections_link = None\n",
    "\n",
    "for link_object in links_array_from_api_org_response:\n",
    "  for links in link_object['links']:\n",
    "    if(links['rel'] == 'connections'):\n",
    "      connections_link = links['uri']\n",
    "      break;\n",
    "    \n",
    "print(connections_link + \"&redirect_uri=\" + CLIENT_REDIRECT_URI)"
   ]
  },
  {
   "cell_type": "code",
   "execution_count": 40,
   "id": "c5794228-c54f-48e7-9669-971cc936dabf",
   "metadata": {},
   "outputs": [
    {
     "name": "stdout",
     "output_type": "stream",
     "text": [
      "Failed to retrieve data: 401\n"
     ]
    }
   ],
   "source": [
    "headers = {'Accept': 'application/vnd.deere.axiom.v3+json', 'Content-Type': 'application/vnd.deere.axiom.v3+json'}\n",
    "url = f'https://sandboxapi.deere.com/platform/cropTypes'\n",
    "\n",
    "response = requests.get(f'{url}', headers = headers)\n",
    "if response.status_code == 200:\n",
    "    operations = response.json()\n",
    "    boundaries = [op for op in operations]\n",
    "    print(boundaries)\n",
    "else:\n",
    "    print(f'Failed to retrieve data: {response.status_code}')"
   ]
  },
  {
   "cell_type": "code",
   "execution_count": 41,
   "id": "80197f52-9a1d-4d0a-a102-a81f9b2f386e",
   "metadata": {},
   "outputs": [
    {
     "data": {
      "text/plain": [
       "{'@type': 'ApiCatalog',\n",
       " 'links': {'files': 'https://sandboxapi.deere.com/platform/files',\n",
       "  'fileTransfers': 'https://sandboxapi.deere.com/platform/fileTransfers',\n",
       "  'currentUser': 'https://sandboxapi.deere.com/platform/users/@currentUser',\n",
       "  'organizations': 'https://sandboxapi.deere.com/platform/organizations',\n",
       "  'partnerships': 'https://sandboxapi.deere.com/platform/partnerships',\n",
       "  'lastKnownEngineHours': 'https://sandboxapi.deere.com/platform/engineHours?lastKnown=true',\n",
       "  'geofencesCreate': 'https://sandboxapi.deere.com/platform/organizations/{orgId}/geofences',\n",
       "  'geofencesListGet': 'https://sandboxapi.deere.com/platform/organizations/{orgId}/geofences',\n",
       "  'geofencesUpdate': 'https://sandboxapi.deere.com/platform/organizations/{orgId}/geofences/{geofenceId}',\n",
       "  'geofencesDelete': 'https://sandboxapi.deere.com/platform/organizations/{orgId}/geofences/{geofenceId}',\n",
       "  'hoursOfOperation': 'https://sandboxapi.deere.com/platform/hoursOfOperation',\n",
       "  'machines': 'https://sandboxapi.deere.com/platform/machines',\n",
       "  'machineMeasurements': 'https://sandboxapi.deere.com/platform/machineMeasurements',\n",
       "  'notificationEvents': 'https://sandboxapi.deere.com/platform/notificationEvents',\n",
       "  'contributionProducts': 'https://sandboxapi.deere.com/platform/contributionProducts',\n",
       "  'contributionDefinitions': 'https://sandboxapi.deere.com/platform/contributionDefinitions',\n",
       "  'cropTypes': 'https://sandboxapi.deere.com/platform/cropTypes',\n",
       "  'mapLayerTypes': 'https://sandboxapi.deere.com/platform/mapLayerTypes',\n",
       "  'assetCatalog': 'https://sandboxapi.deere.com/platform/assetCatalog',\n",
       "  'eventSubscriptions': 'https://sandboxapi.deere.com/platform/eventSubscriptions',\n",
       "  'eventSubscriptionDelivery': 'https://sandboxapi.deere.com/platform/eventSubscriptionDelivery',\n",
       "  'referenceChemicals': 'https://sandboxapi.deere.com/platform/chemicals',\n",
       "  'referenceFertilizers': 'https://sandboxapi.deere.com/platform/fertilizers',\n",
       "  'referenceVarieties': 'https://sandboxapi.deere.com/platform/varieties',\n",
       "  'agencies': 'https://sandboxapi.deere.com/platform/agencies'}}"
      ]
     },
     "execution_count": 41,
     "metadata": {},
     "output_type": "execute_result"
    }
   ],
   "source": [
    "def convert_links_array_to_dictionary(links_a):\n",
    "    link_dict = dict()\n",
    "    for link_o in links_a:\n",
    "        key = link_o['rel']\n",
    "        value = link_o['uri']\n",
    "        link_dict[key] = value\n",
    "    return link_dict\n",
    "api_catalog_links_as_dictionary = convert_links_array_to_dictionary(api_catalog_response.json()['links'])\n",
    "api_catalog_links_as_dictionary\n",
    "\n",
    "def replace_links_as_object_array_with_links_as_dictionary(object_with_links_to_convert):\n",
    "  object_with_links_converted = object_with_links_to_convert\n",
    "  object_with_links_converted['links'] = convert_links_array_to_dictionary(object_with_links_to_convert['links'])\n",
    "  return object_with_links_converted\n",
    "\n",
    "api_catalog_with_clean_links = replace_links_as_object_array_with_links_as_dictionary(api_catalog_response.json())\n",
    "api_catalog_with_clean_links"
   ]
  },
  {
   "cell_type": "code",
   "execution_count": 42,
   "id": "613dd824-43f1-424c-9cb6-c6d6a5fa4e6b",
   "metadata": {},
   "outputs": [
    {
     "data": {
      "text/plain": [
       "{'@type': 'ApiCatalog',\n",
       " 'links': [{'@type': 'Link',\n",
       "   'rel': 'currentUser',\n",
       "   'uri': 'https://sandboxapi.deere.com/platform/users/@currentUser'},\n",
       "  {'@type': 'Link',\n",
       "   'rel': 'organizations',\n",
       "   'uri': 'https://sandboxapi.deere.com/platform/organizations'}]}"
      ]
     },
     "execution_count": 42,
     "metadata": {},
     "output_type": "execute_result"
    }
   ],
   "source": [
    "api_catalog_showLinks_request_param = {'showLinks': 'currentToken,currentUser,organizations'}\n",
    "\n",
    "api_catalog_response_with_request_param = oauth2_session.get(API_CATALOG_URI, headers = MYJOHNDEERE_V3_JSON_HEADERS, params = api_catalog_showLinks_request_param)\n",
    "api_catalog_response_with_request_param.json()"
   ]
  },
  {
   "cell_type": "code",
   "execution_count": 43,
   "id": "dba9c699-966c-44df-976f-df10c7596645",
   "metadata": {},
   "outputs": [
    {
     "data": {
      "text/plain": [
       "{'@type': 'ApiCatalog',\n",
       " 'links': {'currentUser': 'https://sandboxapi.deere.com/platform/users/@currentUser',\n",
       "  'organizations': 'https://sandboxapi.deere.com/platform/organizations'}}"
      ]
     },
     "execution_count": 43,
     "metadata": {},
     "output_type": "execute_result"
    }
   ],
   "source": [
    "def create_show_links_request_param(links_to_show_comma_separated = None):\n",
    "  return {'showLinks' : links_to_show_comma_separated}\n",
    "\n",
    "def get_myjohndeere_api_json_response(oauth_session, myjohndeere_uri, headers = MYJOHNDEERE_V3_JSON_HEADERS, params = None):\n",
    "  json_response = oauth2_session.get(myjohndeere_uri, headers = headers, params = params).json()\n",
    "  return replace_links_as_object_array_with_links_as_dictionary(json_response)\n",
    "\n",
    "api_catalog_response_with_clean_links = get_myjohndeere_api_json_response(oauth2_session, myjohndeere_uri = API_CATALOG_URI, params = create_show_links_request_param('currentToken,currentUser,organizations'))\n",
    "api_catalog_response_with_clean_links"
   ]
  },
  {
   "cell_type": "code",
   "execution_count": 44,
   "id": "fa70efb0-3e44-42b8-a421-703e6327b5ec",
   "metadata": {},
   "outputs": [
    {
     "ename": "JSONDecodeError",
     "evalue": "Expecting value: line 1 column 1 (char 0)",
     "output_type": "error",
     "traceback": [
      "\u001b[0;31m---------------------------------------------------------------------------\u001b[0m",
      "\u001b[0;31mJSONDecodeError\u001b[0m                           Traceback (most recent call last)",
      "File \u001b[0;32m~/anaconda3/envs/py311/lib/python3.11/site-packages/requests/models.py:971\u001b[0m, in \u001b[0;36mResponse.json\u001b[0;34m(self, **kwargs)\u001b[0m\n\u001b[1;32m    970\u001b[0m \u001b[38;5;28;01mtry\u001b[39;00m:\n\u001b[0;32m--> 971\u001b[0m     \u001b[38;5;28;01mreturn\u001b[39;00m \u001b[43mcomplexjson\u001b[49m\u001b[38;5;241;43m.\u001b[39;49m\u001b[43mloads\u001b[49m\u001b[43m(\u001b[49m\u001b[38;5;28;43mself\u001b[39;49m\u001b[38;5;241;43m.\u001b[39;49m\u001b[43mtext\u001b[49m\u001b[43m,\u001b[49m\u001b[43m \u001b[49m\u001b[38;5;241;43m*\u001b[39;49m\u001b[38;5;241;43m*\u001b[39;49m\u001b[43mkwargs\u001b[49m\u001b[43m)\u001b[49m\n\u001b[1;32m    972\u001b[0m \u001b[38;5;28;01mexcept\u001b[39;00m JSONDecodeError \u001b[38;5;28;01mas\u001b[39;00m e:\n\u001b[1;32m    973\u001b[0m     \u001b[38;5;66;03m# Catch JSON-related errors and raise as requests.JSONDecodeError\u001b[39;00m\n\u001b[1;32m    974\u001b[0m     \u001b[38;5;66;03m# This aliases json.JSONDecodeError and simplejson.JSONDecodeError\u001b[39;00m\n",
      "File \u001b[0;32m~/anaconda3/envs/py311/lib/python3.11/json/__init__.py:346\u001b[0m, in \u001b[0;36mloads\u001b[0;34m(s, cls, object_hook, parse_float, parse_int, parse_constant, object_pairs_hook, **kw)\u001b[0m\n\u001b[1;32m    343\u001b[0m \u001b[38;5;28;01mif\u001b[39;00m (\u001b[38;5;28mcls\u001b[39m \u001b[38;5;129;01mis\u001b[39;00m \u001b[38;5;28;01mNone\u001b[39;00m \u001b[38;5;129;01mand\u001b[39;00m object_hook \u001b[38;5;129;01mis\u001b[39;00m \u001b[38;5;28;01mNone\u001b[39;00m \u001b[38;5;129;01mand\u001b[39;00m\n\u001b[1;32m    344\u001b[0m         parse_int \u001b[38;5;129;01mis\u001b[39;00m \u001b[38;5;28;01mNone\u001b[39;00m \u001b[38;5;129;01mand\u001b[39;00m parse_float \u001b[38;5;129;01mis\u001b[39;00m \u001b[38;5;28;01mNone\u001b[39;00m \u001b[38;5;129;01mand\u001b[39;00m\n\u001b[1;32m    345\u001b[0m         parse_constant \u001b[38;5;129;01mis\u001b[39;00m \u001b[38;5;28;01mNone\u001b[39;00m \u001b[38;5;129;01mand\u001b[39;00m object_pairs_hook \u001b[38;5;129;01mis\u001b[39;00m \u001b[38;5;28;01mNone\u001b[39;00m \u001b[38;5;129;01mand\u001b[39;00m \u001b[38;5;129;01mnot\u001b[39;00m kw):\n\u001b[0;32m--> 346\u001b[0m     \u001b[38;5;28;01mreturn\u001b[39;00m \u001b[43m_default_decoder\u001b[49m\u001b[38;5;241;43m.\u001b[39;49m\u001b[43mdecode\u001b[49m\u001b[43m(\u001b[49m\u001b[43ms\u001b[49m\u001b[43m)\u001b[49m\n\u001b[1;32m    347\u001b[0m \u001b[38;5;28;01mif\u001b[39;00m \u001b[38;5;28mcls\u001b[39m \u001b[38;5;129;01mis\u001b[39;00m \u001b[38;5;28;01mNone\u001b[39;00m:\n",
      "File \u001b[0;32m~/anaconda3/envs/py311/lib/python3.11/json/decoder.py:337\u001b[0m, in \u001b[0;36mJSONDecoder.decode\u001b[0;34m(self, s, _w)\u001b[0m\n\u001b[1;32m    333\u001b[0m \u001b[38;5;250m\u001b[39m\u001b[38;5;124;03m\"\"\"Return the Python representation of ``s`` (a ``str`` instance\u001b[39;00m\n\u001b[1;32m    334\u001b[0m \u001b[38;5;124;03mcontaining a JSON document).\u001b[39;00m\n\u001b[1;32m    335\u001b[0m \n\u001b[1;32m    336\u001b[0m \u001b[38;5;124;03m\"\"\"\u001b[39;00m\n\u001b[0;32m--> 337\u001b[0m obj, end \u001b[38;5;241m=\u001b[39m \u001b[38;5;28;43mself\u001b[39;49m\u001b[38;5;241;43m.\u001b[39;49m\u001b[43mraw_decode\u001b[49m\u001b[43m(\u001b[49m\u001b[43ms\u001b[49m\u001b[43m,\u001b[49m\u001b[43m \u001b[49m\u001b[43midx\u001b[49m\u001b[38;5;241;43m=\u001b[39;49m\u001b[43m_w\u001b[49m\u001b[43m(\u001b[49m\u001b[43ms\u001b[49m\u001b[43m,\u001b[49m\u001b[43m \u001b[49m\u001b[38;5;241;43m0\u001b[39;49m\u001b[43m)\u001b[49m\u001b[38;5;241;43m.\u001b[39;49m\u001b[43mend\u001b[49m\u001b[43m(\u001b[49m\u001b[43m)\u001b[49m\u001b[43m)\u001b[49m\n\u001b[1;32m    338\u001b[0m end \u001b[38;5;241m=\u001b[39m _w(s, end)\u001b[38;5;241m.\u001b[39mend()\n",
      "File \u001b[0;32m~/anaconda3/envs/py311/lib/python3.11/json/decoder.py:355\u001b[0m, in \u001b[0;36mJSONDecoder.raw_decode\u001b[0;34m(self, s, idx)\u001b[0m\n\u001b[1;32m    354\u001b[0m \u001b[38;5;28;01mexcept\u001b[39;00m \u001b[38;5;167;01mStopIteration\u001b[39;00m \u001b[38;5;28;01mas\u001b[39;00m err:\n\u001b[0;32m--> 355\u001b[0m     \u001b[38;5;28;01mraise\u001b[39;00m JSONDecodeError(\u001b[38;5;124m\"\u001b[39m\u001b[38;5;124mExpecting value\u001b[39m\u001b[38;5;124m\"\u001b[39m, s, err\u001b[38;5;241m.\u001b[39mvalue) \u001b[38;5;28;01mfrom\u001b[39;00m \u001b[38;5;28;01mNone\u001b[39;00m\n\u001b[1;32m    356\u001b[0m \u001b[38;5;28;01mreturn\u001b[39;00m obj, end\n",
      "\u001b[0;31mJSONDecodeError\u001b[0m: Expecting value: line 1 column 1 (char 0)",
      "\nDuring handling of the above exception, another exception occurred:\n",
      "\u001b[0;31mJSONDecodeError\u001b[0m                           Traceback (most recent call last)",
      "Cell \u001b[0;32mIn[44], line 2\u001b[0m\n\u001b[1;32m      1\u001b[0m current_user_link \u001b[38;5;241m=\u001b[39m api_catalog_response_with_clean_links[\u001b[38;5;124m'\u001b[39m\u001b[38;5;124mlinks\u001b[39m\u001b[38;5;124m'\u001b[39m][\u001b[38;5;124m'\u001b[39m\u001b[38;5;124mcurrentUser\u001b[39m\u001b[38;5;124m'\u001b[39m]\n\u001b[0;32m----> 2\u001b[0m current_user_response \u001b[38;5;241m=\u001b[39m \u001b[43mget_myjohndeere_api_json_response\u001b[49m\u001b[43m(\u001b[49m\u001b[43moauth2_session\u001b[49m\u001b[43m,\u001b[49m\u001b[43m \u001b[49m\u001b[43mmyjohndeere_uri\u001b[49m\u001b[43m \u001b[49m\u001b[38;5;241;43m=\u001b[39;49m\u001b[43m \u001b[49m\u001b[43mcurrent_user_link\u001b[49m\u001b[43m)\u001b[49m\n\u001b[1;32m      3\u001b[0m current_user_response\n",
      "Cell \u001b[0;32mIn[43], line 5\u001b[0m, in \u001b[0;36mget_myjohndeere_api_json_response\u001b[0;34m(oauth_session, myjohndeere_uri, headers, params)\u001b[0m\n\u001b[1;32m      4\u001b[0m \u001b[38;5;28;01mdef\u001b[39;00m \u001b[38;5;21mget_myjohndeere_api_json_response\u001b[39m(oauth_session, myjohndeere_uri, headers \u001b[38;5;241m=\u001b[39m MYJOHNDEERE_V3_JSON_HEADERS, params \u001b[38;5;241m=\u001b[39m \u001b[38;5;28;01mNone\u001b[39;00m):\n\u001b[0;32m----> 5\u001b[0m   json_response \u001b[38;5;241m=\u001b[39m \u001b[43moauth2_session\u001b[49m\u001b[38;5;241;43m.\u001b[39;49m\u001b[43mget\u001b[49m\u001b[43m(\u001b[49m\u001b[43mmyjohndeere_uri\u001b[49m\u001b[43m,\u001b[49m\u001b[43m \u001b[49m\u001b[43mheaders\u001b[49m\u001b[43m \u001b[49m\u001b[38;5;241;43m=\u001b[39;49m\u001b[43m \u001b[49m\u001b[43mheaders\u001b[49m\u001b[43m,\u001b[49m\u001b[43m \u001b[49m\u001b[43mparams\u001b[49m\u001b[43m \u001b[49m\u001b[38;5;241;43m=\u001b[39;49m\u001b[43m \u001b[49m\u001b[43mparams\u001b[49m\u001b[43m)\u001b[49m\u001b[38;5;241;43m.\u001b[39;49m\u001b[43mjson\u001b[49m\u001b[43m(\u001b[49m\u001b[43m)\u001b[49m\n\u001b[1;32m      6\u001b[0m   \u001b[38;5;28;01mreturn\u001b[39;00m replace_links_as_object_array_with_links_as_dictionary(json_response)\n",
      "File \u001b[0;32m~/anaconda3/envs/py311/lib/python3.11/site-packages/requests/models.py:975\u001b[0m, in \u001b[0;36mResponse.json\u001b[0;34m(self, **kwargs)\u001b[0m\n\u001b[1;32m    971\u001b[0m     \u001b[38;5;28;01mreturn\u001b[39;00m complexjson\u001b[38;5;241m.\u001b[39mloads(\u001b[38;5;28mself\u001b[39m\u001b[38;5;241m.\u001b[39mtext, \u001b[38;5;241m*\u001b[39m\u001b[38;5;241m*\u001b[39mkwargs)\n\u001b[1;32m    972\u001b[0m \u001b[38;5;28;01mexcept\u001b[39;00m JSONDecodeError \u001b[38;5;28;01mas\u001b[39;00m e:\n\u001b[1;32m    973\u001b[0m     \u001b[38;5;66;03m# Catch JSON-related errors and raise as requests.JSONDecodeError\u001b[39;00m\n\u001b[1;32m    974\u001b[0m     \u001b[38;5;66;03m# This aliases json.JSONDecodeError and simplejson.JSONDecodeError\u001b[39;00m\n\u001b[0;32m--> 975\u001b[0m     \u001b[38;5;28;01mraise\u001b[39;00m RequestsJSONDecodeError(e\u001b[38;5;241m.\u001b[39mmsg, e\u001b[38;5;241m.\u001b[39mdoc, e\u001b[38;5;241m.\u001b[39mpos)\n",
      "\u001b[0;31mJSONDecodeError\u001b[0m: Expecting value: line 1 column 1 (char 0)"
     ]
    }
   ],
   "source": [
    "current_user_link = api_catalog_response_with_clean_links['links']['currentUser']\n",
    "current_user_response = get_myjohndeere_api_json_response(oauth2_session, myjohndeere_uri = current_user_link)\n",
    "current_user_response"
   ]
  }
 ],
 "metadata": {
  "kernelspec": {
   "display_name": "Python 3 (ipykernel)",
   "language": "python",
   "name": "python3"
  },
  "language_info": {
   "codemirror_mode": {
    "name": "ipython",
    "version": 3
   },
   "file_extension": ".py",
   "mimetype": "text/x-python",
   "name": "python",
   "nbconvert_exporter": "python",
   "pygments_lexer": "ipython3",
   "version": "3.11.4"
  }
 },
 "nbformat": 4,
 "nbformat_minor": 5
}
